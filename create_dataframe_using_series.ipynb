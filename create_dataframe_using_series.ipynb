{
 "cells": [
  {
   "cell_type": "code",
   "execution_count": 1,
   "id": "7ce8146e-f09a-4448-93ba-cdec7dcbb4d0",
   "metadata": {},
   "outputs": [
    {
     "name": "stdout",
     "output_type": "stream",
     "text": [
      "      Name  Age      City\n",
      "0    Alice   25  New York\n",
      "1      Bob   30    London\n",
      "2  Charlie   35     Paris\n",
      "3    David   40    Berlin\n",
      "4      Eva   45     Tokyo\n"
     ]
    }
   ],
   "source": [
    "import pandas as pd\n",
    "\n",
    "# create three series\n",
    "names = pd.Series(['Alice', 'Bob', 'Charlie', 'David', 'Eva'])\n",
    "ages = pd.Series([25, 30, 35, 40, 45])\n",
    "cities = pd.Series(['New York', 'London', 'Paris', 'Berlin', 'Tokyo'])\n",
    "\n",
    "# create dataframe using series\n",
    "my_df = pd.DataFrame({'Name': names, 'Age': ages, 'City': cities})\n",
    "\n",
    "# print dataframe\n",
    "print(my_df)\n"
   ]
  },
  {
   "cell_type": "markdown",
   "id": "fc6fe462-2122-40f8-b659-7baa78ab6185",
   "metadata": {},
   "source": [
    "In this example, we created three Pandas Series for the columns \"Name\", \"Age\", and \"City\". We then combined these Series into a Pandas DataFrame using the pd.DataFrame() function. Finally, we printed the resulting DataFrame.\n",
    "\n",
    "Each Series is aligned by their index, and they are combined horizontally to create a DataFrame where each row corresponds to an index position in the Series. This allows us to combine different types of data, such as strings, integers, and floats, into a single table for analysis."
   ]
  },
  {
   "cell_type": "code",
   "execution_count": null,
   "id": "596b4809-ad86-44e7-b630-3f9f49810a6f",
   "metadata": {},
   "outputs": [],
   "source": []
  }
 ],
 "metadata": {
  "kernelspec": {
   "display_name": "Python 3 (ipykernel)",
   "language": "python",
   "name": "python3"
  },
  "language_info": {
   "codemirror_mode": {
    "name": "ipython",
    "version": 3
   },
   "file_extension": ".py",
   "mimetype": "text/x-python",
   "name": "python",
   "nbconvert_exporter": "python",
   "pygments_lexer": "ipython3",
   "version": "3.10.8"
  }
 },
 "nbformat": 4,
 "nbformat_minor": 5
}
